{
 "cells": [
  {
   "cell_type": "markdown",
   "metadata": {},
   "source": [
    "# Инструкция\n",
    "\n",
    "**path_to_files** - путь к папке с файлами, которые должны быть названы в формате 2274_LR15_general_cycling.xlsx или 2274_LR15_custom_cycling.xlsx\n",
    "\n",
    "Также в этой папке должна быть папка result, куда будут помещены результаты и папка config, где должен содержаться файл config.xlsx. \n",
    "\n",
    "## Образец config для gitt\n",
    "\n",
    "|sample|m|M|I|V|tau|S|Umin|Umax|n_step|\n",
    "|---|---|---|---|---|---|---|---|---|---|\n",
    "|2274_LR15|0.01|94.96|1.00|21.45|1800.00|120.00|2.50|4.80|4.00|\n",
    "\n",
    "## Образец config для mean and formirovka\n",
    "\n",
    "|sample|m_nav|\n",
    "|---|---|\n",
    "|2274_LR15|8.76|"
   ]
  },
  {
   "cell_type": "code",
   "execution_count": 2,
   "metadata": {},
   "outputs": [],
   "source": [
    "import etl\n",
    "path_to_files = '/home/nersirion/volt'"
   ]
  },
  {
   "cell_type": "code",
   "execution_count": 3,
   "metadata": {},
   "outputs": [
    {
     "name": "stdout",
     "output_type": "stream",
     "text": [
      "CPU times: user 14.6 s, sys: 193 ms, total: 14.8 s\n",
      "Wall time: 14.9 s\n"
     ]
    }
   ],
   "source": [
    "%%time\n",
    "etl.mean_result(path_to_files)"
   ]
  },
  {
   "cell_type": "code",
   "execution_count": 35,
   "metadata": {},
   "outputs": [],
   "source": [
    "etl.gitt_result(path_to_files)"
   ]
  },
  {
   "cell_type": "code",
   "execution_count": null,
   "metadata": {},
   "outputs": [],
   "source": [
    "etl.formirovka_result(path_to_files)"
   ]
  }
 ],
 "metadata": {
  "kernelspec": {
   "display_name": "Python 3",
   "language": "python",
   "name": "python3"
  },
  "language_info": {
   "codemirror_mode": {
    "name": "ipython",
    "version": 3
   },
   "file_extension": ".py",
   "mimetype": "text/x-python",
   "name": "python",
   "nbconvert_exporter": "python",
   "pygments_lexer": "ipython3",
   "version": "3.8.3"
  }
 },
 "nbformat": 4,
 "nbformat_minor": 4
}
