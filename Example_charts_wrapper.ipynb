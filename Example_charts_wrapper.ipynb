{
 "cells": [
  {
   "cell_type": "code",
   "execution_count": 2,
   "metadata": {},
   "outputs": [],
   "source": [
    "import pandas as pd\n",
    "from src.charts.charts import ExcelWriterWrapper, ChartMaker"
   ]
  },
  {
   "cell_type": "markdown",
   "metadata": {},
   "source": [
    "### ExcelWriterWrapper\n",
    "принимает аргументы: путь, куда сохранить файл и словарь формата sheet_name: DataFrame. Для сохранения надо вызвать метод close_writer.\n",
    "#### Пример ввода"
   ]
  },
  {
   "cell_type": "code",
   "execution_count": 31,
   "metadata": {},
   "outputs": [
    {
     "data": {
      "text/html": [
       "<div>\n",
       "<style scoped>\n",
       "    .dataframe tbody tr th:only-of-type {\n",
       "        vertical-align: middle;\n",
       "    }\n",
       "\n",
       "    .dataframe tbody tr th {\n",
       "        vertical-align: top;\n",
       "    }\n",
       "\n",
       "    .dataframe thead th {\n",
       "        text-align: right;\n",
       "    }\n",
       "</style>\n",
       "<table border=\"1\" class=\"dataframe\">\n",
       "  <thead>\n",
       "    <tr style=\"text-align: right;\">\n",
       "      <th></th>\n",
       "      <th>0</th>\n",
       "    </tr>\n",
       "  </thead>\n",
       "  <tbody>\n",
       "    <tr>\n",
       "      <th>0</th>\n",
       "      <td>1</td>\n",
       "    </tr>\n",
       "    <tr>\n",
       "      <th>1</th>\n",
       "      <td>2</td>\n",
       "    </tr>\n",
       "    <tr>\n",
       "      <th>2</th>\n",
       "      <td>3</td>\n",
       "    </tr>\n",
       "  </tbody>\n",
       "</table>\n",
       "</div>"
      ],
      "text/plain": [
       "   0\n",
       "0  1\n",
       "1  2\n",
       "2  3"
      ]
     },
     "execution_count": 31,
     "metadata": {},
     "output_type": "execute_result"
    }
   ],
   "source": [
    "test_df = pd.DataFrame([1, 2, 3])\n",
    "test_dict = {'sheet1': test_df, 'sheet2': test_df, 'sheet3': test_df}\n",
    "save_path = 'test.xlsx'\n",
    "writer = ExcelWriterWrapper(save_path, test_dict)\n",
    "writer.close_writer()\n",
    "test_df"
   ]
  },
  {
   "cell_type": "markdown",
   "metadata": {},
   "source": [
    "#### Результат"
   ]
  },
  {
   "cell_type": "code",
   "execution_count": 10,
   "metadata": {},
   "outputs": [
    {
     "data": {
      "text/html": [
       "<div>\n",
       "<style scoped>\n",
       "    .dataframe tbody tr th:only-of-type {\n",
       "        vertical-align: middle;\n",
       "    }\n",
       "\n",
       "    .dataframe tbody tr th {\n",
       "        vertical-align: top;\n",
       "    }\n",
       "\n",
       "    .dataframe thead th {\n",
       "        text-align: right;\n",
       "    }\n",
       "</style>\n",
       "<table border=\"1\" class=\"dataframe\">\n",
       "  <thead>\n",
       "    <tr style=\"text-align: right;\">\n",
       "      <th></th>\n",
       "      <th>0</th>\n",
       "      <th>0</th>\n",
       "      <th>0</th>\n",
       "    </tr>\n",
       "  </thead>\n",
       "  <tbody>\n",
       "    <tr>\n",
       "      <th>0</th>\n",
       "      <td>1</td>\n",
       "      <td>1</td>\n",
       "      <td>1</td>\n",
       "    </tr>\n",
       "    <tr>\n",
       "      <th>1</th>\n",
       "      <td>2</td>\n",
       "      <td>2</td>\n",
       "      <td>2</td>\n",
       "    </tr>\n",
       "    <tr>\n",
       "      <th>2</th>\n",
       "      <td>3</td>\n",
       "      <td>3</td>\n",
       "      <td>3</td>\n",
       "    </tr>\n",
       "  </tbody>\n",
       "</table>\n",
       "</div>"
      ],
      "text/plain": [
       "   0  0  0\n",
       "0  1  1  1\n",
       "1  2  2  2\n",
       "2  3  3  3"
      ]
     },
     "execution_count": 10,
     "metadata": {},
     "output_type": "execute_result"
    }
   ],
   "source": [
    "df = pd.read_excel('test.xlsx', sheet_name=None, index_col=0)\n",
    "df = pd.concat([df[sheet] for sheet in df.keys()], axis=1)\n",
    "df"
   ]
  },
  {
   "cell_type": "markdown",
   "metadata": {},
   "source": [
    "### ChartMaker \n",
    "Основывается на классе ExcelWriterWrapper. Дополнительно принимает аргументы: charts_list - лист кортежей формата (chart_name, sheet_name, x_axis_name, y_axis_name) и place_chart - лист с названиями ячеек куда сохранять графики.\n",
    "#### Пример"
   ]
  },
  {
   "cell_type": "code",
   "execution_count": 64,
   "metadata": {},
   "outputs": [
    {
     "name": "stdout",
     "output_type": "stream",
     "text": [
      "[('Name', 'sheet1', 'x_axis1', 'y_axis1'), ('Name', 'sheet2', 'x_axis2', 'y_axis2'), ('Name', 'sheet3', 'x_axis3', 'y_axis3')]\n",
      "----------------------------------------\n",
      "['A1', 'A21', 'A41', 'A61']\n"
     ]
    }
   ],
   "source": [
    "charts_list = [(\"Name\", f\"sheet{i}\", f\"x_axis{i}\", f\"y_axis{i}\") for i in range(1, 4)]\n",
    "place_chart = [f\"A{i}\" for i in range(1, 62, 20)]\n",
    "chart_maker = ChartMaker(save_path, charts_list, place_chart, test_dict)\n",
    "print(chart_maker.charts)\n",
    "print('--'*20)\n",
    "print(chart_maker.place_charts)"
   ]
  },
  {
   "cell_type": "markdown",
   "metadata": {},
   "source": [
    "Во время итерации по самому себе класс добавляет графики и возращает номер графика, имя и лист, куда сохраниться. Так что достаточно лишь добавить нужные данные на график. "
   ]
  },
  {
   "cell_type": "markdown",
   "metadata": {},
   "source": [
    "#### P.S. при добавлении графика, добавляется ложная серия. Надо не забыть ее удалить"
   ]
  },
  {
   "cell_type": "code",
   "execution_count": 65,
   "metadata": {
    "scrolled": true
   },
   "outputs": [
    {
     "name": "stdout",
     "output_type": "stream",
     "text": [
      "Номер графика -- 0, Имя графика -- Name, Имя листа -- sheet1\n",
      "------------------------------\n",
      "Количество графиков -- 1\n",
      "Количество серий на графике -- 5\n",
      "Пример x и y серии:\n",
      "categories-X ---> sheet1!$A$4:$A$10\n",
      "values-Y ---> sheet1!$E$7:$I$7\n",
      "Номер графика -- 1, Имя графика -- Name, Имя листа -- sheet2\n",
      "------------------------------\n",
      "Количество графиков -- 2\n",
      "Количество серий на графике -- 5\n",
      "Пример x и y серии:\n",
      "categories-X ---> sheet2!$A$4:$A$10\n",
      "values-Y ---> sheet2!$E$7:$I$7\n",
      "Номер графика -- 2, Имя графика -- Name, Имя листа -- sheet3\n",
      "------------------------------\n",
      "Количество графиков -- 3\n",
      "Количество серий на графике -- 5\n",
      "Пример x и y серии:\n",
      "categories-X ---> sheet3!$A$4:$A$10\n",
      "values-Y ---> sheet3!$E$7:$I$7\n"
     ]
    }
   ],
   "source": [
    "for i, name, sheet_name in chart_maker:\n",
    "    print(f\"Номер графика -- {i}, Имя графика -- {name}, Имя листа -- {sheet_name}\")\n",
    "    print(\"---\"*10)\n",
    "    chart = chart_maker.workbook.charts[i]\n",
    "    del chart.series[0]\n",
    "    for i in range(5):\n",
    "        chart.add_series({'categories': [sheet_name, i, 0, i*i, 0],\n",
    "                          'values': [sheet_name, i*2, 4, i+i, 8]})\n",
    "    print(f\"Количество графиков -- {len(chart_maker.workbook.charts)}\")\n",
    "    print(f\"Количество серий на графике -- {len(chart.series)}\")\n",
    "    print(\"Пример x и y серии:\")\n",
    "    x = chart.series[3]['categories']\n",
    "    print(f\"categories-X ---> {x}\")\n",
    "    y = chart.series[3]['values']\n",
    "    print(f\"values-Y ---> {y}\")"
   ]
  },
  {
   "cell_type": "markdown",
   "metadata": {},
   "source": [
    "До сохранения можно внести небольшие измения в графики. Кардинальные проще задать изначально в классе. Также надо не забыть, закрыть writer, чтобы сохранить результат"
   ]
  },
  {
   "cell_type": "code",
   "execution_count": 63,
   "metadata": {},
   "outputs": [
    {
     "name": "stdout",
     "output_type": "stream",
     "text": [
      "Начальное значение -- None\n",
      "Измененное значение -- 2\n"
     ]
    }
   ],
   "source": [
    "print(\"Начальное значение --\", chart.x_axis['min'])\n",
    "chart.x_axis['min'] = 2\n",
    "print(\"Измененное значение --\", chart.x_axis['min'])\n",
    "chart_maker.close_writer()"
   ]
  },
  {
   "cell_type": "code",
   "execution_count": null,
   "metadata": {},
   "outputs": [],
   "source": []
  }
 ],
 "metadata": {
  "kernelspec": {
   "display_name": "Python 3",
   "language": "python",
   "name": "python3"
  },
  "language_info": {
   "codemirror_mode": {
    "name": "ipython",
    "version": 3
   },
   "file_extension": ".py",
   "mimetype": "text/x-python",
   "name": "python",
   "nbconvert_exporter": "python",
   "pygments_lexer": "ipython3",
   "version": "3.7.3"
  }
 },
 "nbformat": 4,
 "nbformat_minor": 2
}
